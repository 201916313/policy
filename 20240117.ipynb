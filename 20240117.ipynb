{
  "nbformat": 4,
  "nbformat_minor": 0,
  "metadata": {
    "colab": {
      "provenance": []
    },
    "kernelspec": {
      "name": "python3",
      "display_name": "Python 3"
    },
    "language_info": {
      "name": "python"
    }
  },
  "cells": [
    {
      "cell_type": "code",
      "execution_count": null,
      "metadata": {
        "colab": {
          "base_uri": "https://localhost:8080/"
        },
        "id": "lHRf1qcAVP1Z",
        "outputId": "f90a1249-7321-4cc2-9c99-2fc3fe966725"
      },
      "outputs": [
        {
          "output_type": "stream",
          "name": "stdout",
          "text": [
            "3번째 열의 각 값의 개수:\n",
            "사립    193\n",
            "공립     82\n",
            "대학     14\n",
            "국립      4\n",
            "Name: 3, dtype: int64\n"
          ]
        }
      ],
      "source": [
        "import pandas as pd\n",
        "\n",
        "# 엑셀 파일 읽기\n",
        "file_path = \"/content/2023_미술관현황.xlsx\"\n",
        "df = pd.read_excel(file_path)\n",
        "\n",
        "# 3번째 열의 값 개수 세기\n",
        "value_counts = df.iloc[:, 2].value_counts()\n",
        "\n",
        "# 결과 출력\n",
        "print(\"3번째 열의 각 값의 개수:\")\n",
        "print(value_counts)\n"
      ]
    },
    {
      "cell_type": "code",
      "source": [
        "193+82+14+4"
      ],
      "metadata": {
        "colab": {
          "base_uri": "https://localhost:8080/"
        },
        "id": "6MxGJzkflei-",
        "outputId": "925d3608-f758-476f-dbf6-f3e69394d009"
      },
      "execution_count": null,
      "outputs": [
        {
          "output_type": "execute_result",
          "data": {
            "text/plain": [
              "293"
            ]
          },
          "metadata": {},
          "execution_count": 3
        }
      ]
    },
    {
      "cell_type": "code",
      "source": [
        "# 엑셀 파일 읽기\n",
        "file_path = \"/content/2023_미술관현황.xlsx\"\n",
        "df = pd.read_excel(file_path)\n",
        "\n",
        "# 1번째 열의 값에 따라 3번째 열의 값들이 몇 번 count되는지 구하기\n",
        "count_by_first_column = df.groupby([df.iloc[:, 0], df.iloc[:, 2]]).size().unstack(fill_value=0)\n",
        "\n",
        "# 결과 출력\n",
        "print(\"1번째 열의 값에 따라 3번째 열의 값들이 몇 번 count되는지:\")\n",
        "print(count_by_first_column)"
      ],
      "metadata": {
        "colab": {
          "base_uri": "https://localhost:8080/"
        },
        "id": "lQTgHhVqlruU",
        "outputId": "4a4c8f6a-85a9-4d51-aeee-7b5ed70b0f05"
      },
      "execution_count": null,
      "outputs": [
        {
          "output_type": "stream",
          "name": "stdout",
          "text": [
            "1번째 열의 값에 따라 3번째 열의 값들이 몇 번 count되는지:\n",
            "3    공립  국립  대학  사립\n",
            "1                  \n",
            "강원    5   0   0  16\n",
            "경기   14   1   3  41\n",
            "경남    5   0   0   5\n",
            "경북    5   0   1   5\n",
            "광주    4   0   2   8\n",
            "대구    2   0   2   0\n",
            "대전    2   0   0   3\n",
            "부산    2   0   2   5\n",
            "서울    8   2   4  34\n",
            "서울    0   0   0   1\n",
            "울산    1   0   0   0\n",
            "인천    2   0   0   3\n",
            "전남   11   0   0  30\n",
            "전북    7   0   0  13\n",
            "제주    7   0   0  15\n",
            "충남    2   0   0   8\n",
            "충북    5   1   0   6\n"
          ]
        }
      ]
    },
    {
      "cell_type": "code",
      "source": [],
      "metadata": {
        "id": "_hG2VU9fqdmM"
      },
      "execution_count": null,
      "outputs": []
    }
  ]
}