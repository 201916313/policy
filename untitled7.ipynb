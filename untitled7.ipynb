{
  "nbformat": 4,
  "nbformat_minor": 0,
  "metadata": {
    "colab": {
      "provenance": [],
      "authorship_tag": "ABX9TyN4yLpNNTi3HJMc96jb86qS",
      "include_colab_link": true
    },
    "kernelspec": {
      "name": "python3",
      "display_name": "Python 3"
    },
    "language_info": {
      "name": "python"
    }
  },
  "cells": [
    {
      "cell_type": "markdown",
      "metadata": {
        "id": "view-in-github",
        "colab_type": "text"
      },
      "source": [
        "<a href=\"https://colab.research.google.com/github/201916313/policy/blob/main/untitled7.ipynb\" target=\"_parent\"><img src=\"https://colab.research.google.com/assets/colab-badge.svg\" alt=\"Open In Colab\"/></a>"
      ]
    },
    {
      "cell_type": "code",
      "execution_count": null,
      "metadata": {
        "colab": {
          "base_uri": "https://localhost:8080/"
        },
        "id": "Xw7EACmxyhx3",
        "outputId": "3b2c539d-b067-4d71-ce1a-081ac0dc4e86"
      },
      "outputs": [
        {
          "output_type": "stream",
          "name": "stdout",
          "text": [
            "              연면적\n",
            "국공립              \n",
            "공립    5638.643671\n",
            "국립   28008.497500\n"
          ]
        },
        {
          "output_type": "stream",
          "name": "stderr",
          "text": [
            "<ipython-input-7-bb533b6f009f>:8: FutureWarning: The default value of numeric_only in DataFrameGroupBy.mean is deprecated. In a future version, numeric_only will default to False. Either specify numeric_only or select only columns which should be valid for the function.\n",
            "  result = df.groupby(df.iloc[:, 1]).mean()\n"
          ]
        }
      ],
      "source": [
        "import pandas as pd\n",
        "\n",
        "# 엑셀 파일 읽기\n",
        "file_path = \"/content/ㅠㅠ.xlsx\"\n",
        "df = pd.read_excel(file_path)\n",
        "\n",
        "# 2번째 열의 값별로 모든 열의 평균 계산\n",
        "result = df.groupby(df.iloc[:, 1]).mean()\n",
        "\n",
        "# 결과 출력\n",
        "print(result)\n"
      ]
    },
    {
      "cell_type": "code",
      "source": [
        "\n",
        "\n",
        "# 엑셀 파일 읽기\n",
        "file_path = \"/content/ㅠㅠ.xlsx\"\n",
        "df = pd.read_excel(file_path)\n",
        "\n",
        "# 데이터프레임 정보 출력\n",
        "print(df.info())"
      ],
      "metadata": {
        "colab": {
          "base_uri": "https://localhost:8080/"
        },
        "id": "MDuUGT07zQw9",
        "outputId": "42b9be5d-f0a4-4810-c13a-f8cd2771c5dd"
      },
      "execution_count": null,
      "outputs": [
        {
          "output_type": "stream",
          "name": "stdout",
          "text": [
            "<class 'pandas.core.frame.DataFrame'>\n",
            "RangeIndex: 82 entries, 0 to 81\n",
            "Data columns (total 4 columns):\n",
            " #   Column        Non-Null Count  Dtype  \n",
            "---  ------        --------------  -----  \n",
            " 0   경기            82 non-null     object \n",
            " 1   국립            82 non-null     object \n",
            " 2   국립현대미술관(과천관)  82 non-null     object \n",
            " 3   37796.8       82 non-null     float64\n",
            "dtypes: float64(1), object(3)\n",
            "memory usage: 2.7+ KB\n",
            "None\n"
          ]
        }
      ]
    },
    {
      "cell_type": "code",
      "source": [
        "\n",
        "\n",
        "# 엑셀 파일 읽기 (두 번째 시트 선택)\n",
        "file_path = \"/content/ㅠㅠ.xlsx\"\n",
        "sheet_name = \"Sheet2\"  # 실제 시트 이름으로 변경해주세요\n",
        "df = pd.read_excel(file_path, sheet_name=sheet_name)\n",
        "\n",
        "# 7~11번째 열의 모든 값을 더한 값\n",
        "sum_col_7_to_11 = df.iloc[:, 6:11].sum().sum()\n",
        "\n",
        "# 12~15번째 열의 모든 값을 더한 값\n",
        "sum_col_12_to_15 = df.iloc[:, 11:15].sum().sum()\n",
        "\n",
        "# 결과 출력\n",
        "print(\"7~11번째 열의 모든 값 더한 결과:\", sum_col_7_to_11)\n",
        "print(\"12~15번째 열의 모든 값 더한 결과:\", sum_col_12_to_15)\n"
      ],
      "metadata": {
        "colab": {
          "base_uri": "https://localhost:8080/"
        },
        "id": "g13ofdMOzZ8M",
        "outputId": "488a8452-cc16-457b-a601-4abbbef702db"
      },
      "execution_count": null,
      "outputs": [
        {
          "output_type": "stream",
          "name": "stdout",
          "text": [
            "7~11번째 열의 모든 값 더한 결과: 41.0\n",
            "12~15번째 열의 모든 값 더한 결과: 77.0\n"
          ]
        }
      ]
    },
    {
      "cell_type": "code",
      "source": [
        "\n",
        "# 엑셀 파일 읽기 (Sheet2 시트 선택)\n",
        "file_path = \"/content/ㅠㅠ.xlsx\"\n",
        "sheet_name = \"Sheet2\"  # 실제 시트 이름으로 변경해주세요\n",
        "df = pd.read_excel(file_path, sheet_name=sheet_name)\n",
        "\n",
        "# 5번째 열의 값의 평균 계산\n",
        "average_column_5 = df.iloc[:, 4].mean()\n",
        "\n",
        "# 결과 출력\n",
        "print(\"5번째 열의 값의 평균:\", average_column_5)\n"
      ],
      "metadata": {
        "colab": {
          "base_uri": "https://localhost:8080/"
        },
        "id": "h0usTulH3VBd",
        "outputId": "1cea419a-a2c7-4740-be70-0e3bc02250c9"
      },
      "execution_count": null,
      "outputs": [
        {
          "output_type": "stream",
          "name": "stdout",
          "text": [
            "5번째 열의 값의 평균: 1129.7777777777778\n"
          ]
        }
      ]
    },
    {
      "cell_type": "code",
      "source": [
        "\n",
        "# 엑셀 파일 읽기 (Sheet2 시트 선택)\n",
        "file_path = \"/content/ㅠㅠ.xlsx\"\n",
        "sheet_name = \"Sheet2\"  # 실제 시트 이름으로 변경해주세요\n",
        "df = pd.read_excel(file_path, sheet_name=sheet_name)\n",
        "\n",
        "# 6번째 열의 값의 평균 계산\n",
        "average_column_6 = df.iloc[:, 5].mean()\n",
        "\n",
        "# 결과 출력\n",
        "print(\"6번째 열의 값의 평균:\", average_column_6)\n"
      ],
      "metadata": {
        "colab": {
          "base_uri": "https://localhost:8080/"
        },
        "id": "8jholMQI3lj7",
        "outputId": "a82e7494-abd0-4546-d427-ef7ab8ccf93b"
      },
      "execution_count": null,
      "outputs": [
        {
          "output_type": "stream",
          "name": "stdout",
          "text": [
            "6번째 열의 값의 평균: 39318.88888888889\n"
          ]
        }
      ]
    },
    {
      "cell_type": "code",
      "source": [
        "\n",
        "# 엑셀 파일 읽기 (Sheet2 시트 선택)\n",
        "file_path = \"/content/ㅠㅠ.xlsx\"\n",
        "sheet_name = \"Sheet2\"  # 실제 시트 이름으로 변경해주세요\n",
        "df = pd.read_excel(file_path, sheet_name=sheet_name)\n",
        "\n",
        "# 4번째 열의 값의 평균 계산\n",
        "average_column_4 = df.iloc[:, 3].mean()\n",
        "\n",
        "# 결과 출력\n",
        "print(\"6번째 열의 값의 평균:\", average_column_4)\n"
      ],
      "metadata": {
        "colab": {
          "base_uri": "https://localhost:8080/"
        },
        "id": "PxKiSTt83w_M",
        "outputId": "6c76a8d1-595b-47ec-f4a9-6f733e7d4714"
      },
      "execution_count": null,
      "outputs": [
        {
          "output_type": "stream",
          "name": "stdout",
          "text": [
            "6번째 열의 값의 평균: 2609.332222222222\n"
          ]
        }
      ]
    }
  ]
}