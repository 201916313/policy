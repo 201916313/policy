{
  "nbformat": 4,
  "nbformat_minor": 0,
  "metadata": {
    "colab": {
      "provenance": []
    },
    "kernelspec": {
      "name": "python3",
      "display_name": "Python 3"
    },
    "language_info": {
      "name": "python"
    }
  },
  "cells": [
    {
      "cell_type": "code",
      "execution_count": null,
      "metadata": {
        "colab": {
          "base_uri": "https://localhost:8080/"
        },
        "id": "VGBlVSifjDDK",
        "outputId": "5b44ce13-95ae-4aa0-f7e7-45d7a07ea919"
      },
      "outputs": [
        {
          "output_type": "stream",
          "name": "stdout",
          "text": [
            "      연번  성별   연령  거주지 거주기간  Q1  Q2 Q3  Q4  Q5  Q5-1  Q5-2 Q6 Q7   Q8  \\\n",
            "0      1   2  3.0  이백면    2   2   1  2 NaN   1   5.0   NaN  1  3  2.0   \n",
            "1      2   2  6.0  이백면    6   1   1  3 NaN   1   1.0   NaN  1  1  1.0   \n",
            "2      3   2  6.0  이백면    6   1   1  3 NaN   1   1.0   NaN  1  1  1.0   \n",
            "3      4   2  6.0  이백면    6   1   1  3 NaN   1   1.0   NaN  1  1  3.0   \n",
            "4      5   2  6.0  이백면    6   1   1  3 NaN   1   1.0   NaN  1  1  1.0   \n",
            "..   ...  ..  ...  ...  ...  ..  .. ..  ..  ..   ...   ... .. ..  ...   \n",
            "507  508   1  3.0  도통동    2   2   2  3 NaN   1   1.0   NaN  2  1  2.0   \n",
            "508  509   2  3.0   금동    6   2   1  3 NaN   1   1.0   NaN  1  1  3.0   \n",
            "509  510   1  3.0  도통동    4   1   1  3 NaN   1   1.0   NaN  1  1  3.0   \n",
            "510  511   2  2.0   금동    6   2   3  3 NaN   1   5.0   NaN  3  3  1.0   \n",
            "511  512   2  2.0  도통동    6   1   1  1 NaN   1   2.0   NaN  1  3  2.0   \n",
            "\n",
            "                                        Q9  \n",
            "0                                      NaN  \n",
            "1                                      NaN  \n",
            "2                                      NaN  \n",
            "3                                      NaN  \n",
            "4                                      NaN  \n",
            "..                                     ...  \n",
            "507                                    NaN  \n",
            "508                                    NaN  \n",
            "509  젊은 감각으로 1관보다 보다 나은 멋진 건물을 지어주시기 바랍니다.  \n",
            "510                                    NaN  \n",
            "511                                    NaN  \n",
            "\n",
            "[512 rows x 16 columns]\n"
          ]
        }
      ],
      "source": [
        "import pandas as pd\n",
        "\n",
        "# 엑셀 파일 경로\n",
        "file_path = \"/content/남원설문결과_최종_0109.xlsx\"\n",
        "\n",
        "# 엑셀 파일 불러오기\n",
        "df = pd.read_excel(file_path)\n",
        "\n",
        "# 데이터 확인\n",
        "print(df)\n"
      ]
    },
    {
      "cell_type": "code",
      "source": [
        "# 엑셀 파일 경로\n",
        "file_path = \"/content/남원설문결과_최종_0109.xlsx\"\n",
        "\n",
        "# 엑셀 파일 불러오기\n",
        "df = pd.read_excel(file_path)\n",
        "\n",
        "# '성별' 컬럼의 값들의 빈도수 확인\n",
        "gender_counts = df['성별'].value_counts()\n",
        "\n",
        "# 결과 출력\n",
        "print(gender_counts)\n",
        "\n",
        "# 비율 계산\n",
        "gender_percentage = gender_counts / len(df) * 100\n",
        "\n",
        "# 결과 출력\n",
        "print(\"빈도수:\")\n",
        "print(gender_counts)\n",
        "print(\"\\n비율:\")\n",
        "print(gender_percentage)\n"
      ],
      "metadata": {
        "colab": {
          "base_uri": "https://localhost:8080/"
        },
        "id": "aCfHoymfjSPx",
        "outputId": "aaed4cd9-8bb5-4229-c9fc-c12d8105a3da"
      },
      "execution_count": null,
      "outputs": [
        {
          "output_type": "stream",
          "name": "stdout",
          "text": [
            "2    306\n",
            "1    206\n",
            "Name: 성별, dtype: int64\n",
            "빈도수:\n",
            "2    306\n",
            "1    206\n",
            "Name: 성별, dtype: int64\n",
            "\n",
            "비율:\n",
            "2    59.765625\n",
            "1    40.234375\n",
            "Name: 성별, dtype: float64\n"
          ]
        }
      ]
    },
    {
      "cell_type": "code",
      "source": [
        "# 엑셀 파일 경로\n",
        "file_path = \"/content/남원설문결과_최종_0109.xlsx\"\n",
        "\n",
        "# 엑셀 파일 불러오기\n",
        "df = pd.read_excel(file_path)\n",
        "\n",
        "# '나이' 컬럼의 값들의 빈도수 확인\n",
        "age_counts = df['연령'].value_counts()\n",
        "\n",
        "# 비율 계산\n",
        "age_percentage = age_counts / len(df) * 100\n",
        "\n",
        "# 결과 출력\n",
        "print(\"연령 빈도수:\")\n",
        "print(age_counts)\n",
        "print(\"\\n연령 비율:\")\n",
        "print(age_percentage)"
      ],
      "metadata": {
        "colab": {
          "base_uri": "https://localhost:8080/"
        },
        "id": "YrEkjA2mjSR5",
        "outputId": "07f6630b-8cf5-4430-d823-73c8a12df06a"
      },
      "execution_count": null,
      "outputs": [
        {
          "output_type": "stream",
          "name": "stdout",
          "text": [
            "연령 빈도수:\n",
            "3.0    142\n",
            "6.0    124\n",
            "4.0     95\n",
            "5.0     76\n",
            "2.0     70\n",
            "1.0      4\n",
            "Name: 연령, dtype: int64\n",
            "\n",
            "연령 비율:\n",
            "3.0    27.734375\n",
            "6.0    24.218750\n",
            "4.0    18.554688\n",
            "5.0    14.843750\n",
            "2.0    13.671875\n",
            "1.0     0.781250\n",
            "Name: 연령, dtype: float64\n"
          ]
        }
      ]
    },
    {
      "cell_type": "code",
      "source": [
        "0.8+13.7+27.7+18.6+14.9+24.2"
      ],
      "metadata": {
        "colab": {
          "base_uri": "https://localhost:8080/"
        },
        "id": "EFjukphmjST6",
        "outputId": "d343bee4-33e9-4baf-b224-57d657fbec97"
      },
      "execution_count": null,
      "outputs": [
        {
          "output_type": "execute_result",
          "data": {
            "text/plain": [
              "99.9"
            ]
          },
          "metadata": {},
          "execution_count": 10
        }
      ]
    },
    {
      "cell_type": "code",
      "source": [
        "\n",
        "# '거주지' 컬럼의 값들의 빈도수 확인\n",
        "age_counts = df['거주지'].value_counts()\n",
        "\n",
        "\n",
        "# '거주지' 컬럼의 값들의 빈도수 확인 (내림차순 정렬)\n",
        "residence_counts = df['거주지'].value_counts(sort=True, ascending=False)\n",
        "\n",
        "# 비율 계산\n",
        "residence_percentage = residence_counts / 512\n",
        "\n",
        "\n",
        "# 결과 출력\n",
        "print(\"거주지 빈도수:\")\n",
        "print(age_counts)\n",
        "print(\"\\n거주지 비율:\")\n",
        "print(age_percentage)"
      ],
      "metadata": {
        "colab": {
          "base_uri": "https://localhost:8080/"
        },
        "id": "ku7E33A3k9_C",
        "outputId": "64adfcdd-4b39-4aba-a8a3-dd21f18adc56"
      },
      "execution_count": null,
      "outputs": [
        {
          "output_type": "stream",
          "name": "stdout",
          "text": [
            "거주지 빈도수:\n",
            "도통동    111\n",
            "향교동     45\n",
            "금동      41\n",
            "노암동     39\n",
            "왕정동     33\n",
            "운봉읍     24\n",
            "동충동     21\n",
            "죽항동     20\n",
            "인월면     18\n",
            "주천면     17\n",
            "이백면     14\n",
            "산내면     14\n",
            "금지면     14\n",
            "송동면     13\n",
            "주생면     12\n",
            "아영면     12\n",
            "산동면     11\n",
            "대산면     11\n",
            "대강면     10\n",
            "사매면     10\n",
            "보절면      9\n",
            "수지면      7\n",
            "덕과면      6\n",
            "Name: 거주지, dtype: int64\n",
            "\n",
            "거주지 비율:\n",
            "1.0    0.394531\n",
            "3.0    0.271484\n",
            "2.0    0.222656\n",
            "4.0    0.041016\n",
            "5.0    0.029297\n",
            "6.0    0.021484\n",
            "Name: Q8, dtype: float64\n"
          ]
        }
      ]
    },
    {
      "cell_type": "code",
      "source": [
        "# 'Q1' 컬럼의 값들의 빈도수 확인\n",
        "age_counts = df['Q1'].value_counts()\n",
        "\n",
        "# 비율 계산\n",
        "age_percentage = age_counts / 512\n",
        "\n",
        "# 결과 출력\n",
        "print(\"Q1 빈도수:\")\n",
        "print(age_counts)\n",
        "print(\"\\nQ1 비율:\")\n",
        "print(age_percentage)"
      ],
      "metadata": {
        "colab": {
          "base_uri": "https://localhost:8080/"
        },
        "id": "7-lfyUEnmnkb",
        "outputId": "cd88fffd-cba6-4c35-c7d7-61a011b3b4f5"
      },
      "execution_count": null,
      "outputs": [
        {
          "output_type": "stream",
          "name": "stdout",
          "text": [
            "Q1 빈도수:\n",
            "2    186\n",
            "1    149\n",
            "3    130\n",
            "4     36\n",
            "5     11\n",
            "Name: Q1, dtype: int64\n",
            "\n",
            "Q1 비율:\n",
            "2    0.363281\n",
            "1    0.291016\n",
            "3    0.253906\n",
            "4    0.070312\n",
            "5    0.021484\n",
            "Name: Q1, dtype: float64\n"
          ]
        }
      ]
    },
    {
      "cell_type": "code",
      "source": [
        "# 'Q2' 컬럼의 값들의 빈도수 확인\n",
        "age_counts = df['Q2'].value_counts()\n",
        "\n",
        "# 비율 계산\n",
        "age_percentage = age_counts / 512\n",
        "\n",
        "# 결과 출력\n",
        "print(\"Q2 빈도수:\")\n",
        "print(age_counts)\n",
        "print(\"\\nQ2 비율:\")\n",
        "print(age_percentage)"
      ],
      "metadata": {
        "colab": {
          "base_uri": "https://localhost:8080/"
        },
        "id": "fAnP-9rbnTMq",
        "outputId": "5e56b2ec-1c47-4e1a-bfdd-86782ab7c300"
      },
      "execution_count": null,
      "outputs": [
        {
          "output_type": "stream",
          "name": "stdout",
          "text": [
            "Q2 빈도수:\n",
            "2    229\n",
            "1    199\n",
            "4     37\n",
            "3     33\n",
            "5     14\n",
            "Name: Q2, dtype: int64\n",
            "\n",
            "Q2 비율:\n",
            "2    0.447266\n",
            "1    0.388672\n",
            "4    0.072266\n",
            "3    0.064453\n",
            "5    0.027344\n",
            "Name: Q2, dtype: float64\n"
          ]
        }
      ]
    },
    {
      "cell_type": "code",
      "source": [
        "2.7+7.2+6.4+44.7+38.8"
      ],
      "metadata": {
        "colab": {
          "base_uri": "https://localhost:8080/"
        },
        "id": "6xBU0B0gnTOi",
        "outputId": "a0d1a059-1e26-4bfd-a79a-12ee501ef555"
      },
      "execution_count": null,
      "outputs": [
        {
          "output_type": "execute_result",
          "data": {
            "text/plain": [
              "99.8"
            ]
          },
          "metadata": {},
          "execution_count": 18
        }
      ]
    },
    {
      "cell_type": "code",
      "source": [
        "# 엑셀 파일 불러오기\n",
        "df = pd.read_excel(file_path)\n",
        "\n",
        "# 'Q3' 컬럼이 비어있지 않은 행만 선택\n",
        "filtered_df = df[df['Q3'].notna()]\n",
        "\n",
        "# 'Q3' 컬럼의 값들의 빈도수 확인\n",
        "q3_counts = filtered_df['Q3'].value_counts()\n",
        "\n",
        "# 비율 계산\n",
        "q3_percentage = q3_counts / 455\n",
        "\n",
        "# 결과 출력\n",
        "print(\"Q3 빈도수:\")\n",
        "print(q3_counts)\n",
        "print(\"\\nQ3 비율:\")\n",
        "print(q3_percentage)"
      ],
      "metadata": {
        "colab": {
          "base_uri": "https://localhost:8080/"
        },
        "id": "coi0qTvanTQr",
        "outputId": "d0384398-2b5c-4f0c-a6b2-b6ef6bc9e64a"
      },
      "execution_count": null,
      "outputs": [
        {
          "output_type": "stream",
          "name": "stdout",
          "text": [
            "Q3 빈도수:\n",
            "3    192\n",
            "2    178\n",
            "1     44\n",
            "4     39\n",
            "5      2\n",
            "       2\n",
            "Name: Q3, dtype: int64\n",
            "\n",
            "Q3 비율:\n",
            "3    0.421978\n",
            "2    0.391209\n",
            "1    0.096703\n",
            "4    0.085714\n",
            "5    0.004396\n",
            "     0.004396\n",
            "Name: Q3, dtype: float64\n"
          ]
        }
      ]
    },
    {
      "cell_type": "code",
      "source": [
        "192+178+44+39+2"
      ],
      "metadata": {
        "colab": {
          "base_uri": "https://localhost:8080/"
        },
        "id": "tniuMT8fo1xR",
        "outputId": "531ab42c-fb66-4118-a7ab-7286efb089f5"
      },
      "execution_count": null,
      "outputs": [
        {
          "output_type": "execute_result",
          "data": {
            "text/plain": [
              "455"
            ]
          },
          "metadata": {},
          "execution_count": 24
        }
      ]
    },
    {
      "cell_type": "code",
      "source": [
        "25+19+8+3+2"
      ],
      "metadata": {
        "colab": {
          "base_uri": "https://localhost:8080/"
        },
        "id": "593HiEKTp1lY",
        "outputId": "76158f8f-4bb4-4de7-9d7e-1947c9b513d1"
      },
      "execution_count": null,
      "outputs": [
        {
          "output_type": "execute_result",
          "data": {
            "text/plain": [
              "57"
            ]
          },
          "metadata": {},
          "execution_count": 25
        }
      ]
    },
    {
      "cell_type": "code",
      "source": [
        "\n",
        "# 'Q3' 컬럼이 비어있지 않은 행만 선택\n",
        "filtered_df = df[df['Q4'].notna()]\n",
        "\n",
        "# 'Q3' 컬럼의 값들의 빈도수 확인\n",
        "q4_counts = filtered_df['Q4'].value_counts()\n",
        "\n",
        "# 비율 계산\n",
        "q4_percentage = q4_counts / 57\n",
        "\n",
        "# 결과 출력\n",
        "print(\"Q4 빈도수:\")\n",
        "print(q4_counts)\n",
        "print(\"\\nQ4 비율:\")\n",
        "print(q4_percentage)"
      ],
      "metadata": {
        "colab": {
          "base_uri": "https://localhost:8080/"
        },
        "id": "x6gtmJxbpjD6",
        "outputId": "9ccbd038-90a3-4733-a48b-2fcb96b7e899"
      },
      "execution_count": null,
      "outputs": [
        {
          "output_type": "stream",
          "name": "stdout",
          "text": [
            "Q4 빈도수:\n",
            "2.0    25\n",
            "1.0    19\n",
            "4.0     8\n",
            "3.0     3\n",
            "5.0     2\n",
            "Name: Q4, dtype: int64\n",
            "\n",
            "Q4 비율:\n",
            "2.0    0.438596\n",
            "1.0    0.333333\n",
            "4.0    0.140351\n",
            "3.0    0.052632\n",
            "5.0    0.035088\n",
            "Name: Q4, dtype: float64\n"
          ]
        }
      ]
    },
    {
      "cell_type": "code",
      "source": [
        "# 'Q2' 컬럼의 값들의 빈도수 확인\n",
        "age_counts = df['Q5'].value_counts()\n",
        "\n",
        "# 비율 계산\n",
        "age_percentage = age_counts / 512\n",
        "\n",
        "# 결과 출력\n",
        "print(\"Q5 빈도수:\")\n",
        "print(age_counts)\n",
        "print(\"\\nQ5 비율:\")\n",
        "print(age_percentage)"
      ],
      "metadata": {
        "colab": {
          "base_uri": "https://localhost:8080/"
        },
        "id": "LB6ERLLOsumL",
        "outputId": "b7feeae0-2885-4273-c546-950fcfaeea3b"
      },
      "execution_count": null,
      "outputs": [
        {
          "output_type": "stream",
          "name": "stdout",
          "text": [
            "Q5 빈도수:\n",
            "1    466\n",
            "2     46\n",
            "Name: Q5, dtype: int64\n",
            "\n",
            "Q5 비율:\n",
            "1    0.910156\n",
            "2    0.089844\n",
            "Name: Q5, dtype: float64\n"
          ]
        }
      ]
    },
    {
      "cell_type": "code",
      "source": [
        "466/512"
      ],
      "metadata": {
        "colab": {
          "base_uri": "https://localhost:8080/"
        },
        "id": "dr5LyIiww7Wh",
        "outputId": "9f514d99-afc7-4577-8765-00f3040bccb6"
      },
      "execution_count": null,
      "outputs": [
        {
          "output_type": "execute_result",
          "data": {
            "text/plain": [
              "0.91015625"
            ]
          },
          "metadata": {},
          "execution_count": 52
        }
      ]
    },
    {
      "cell_type": "code",
      "source": [
        "47/512"
      ],
      "metadata": {
        "colab": {
          "base_uri": "https://localhost:8080/"
        },
        "id": "9-6Kw-8fw_cJ",
        "outputId": "79111d6b-700a-480f-a1c8-14ccdc63bb94"
      },
      "execution_count": null,
      "outputs": [
        {
          "output_type": "execute_result",
          "data": {
            "text/plain": [
              "0.091796875"
            ]
          },
          "metadata": {},
          "execution_count": 36
        }
      ]
    },
    {
      "cell_type": "code",
      "source": [
        "# 'Q2' 컬럼의 값들의 빈도수 확인\n",
        "age_counts = df['Q5-1'].value_counts()\n",
        "\n",
        "# 비율 계산\n",
        "age_percentage = age_counts / 466\n",
        "\n",
        "# 결과 출력\n",
        "print(\"Q5-1 빈도수:\")\n",
        "print(age_counts)\n",
        "print(\"\\nQ5-1 비율:\")\n",
        "print(age_percentage)"
      ],
      "metadata": {
        "colab": {
          "base_uri": "https://localhost:8080/"
        },
        "id": "YXZlZXMYtKhg",
        "outputId": "4d3bb082-743d-4ba7-b2cb-806cca86e19f"
      },
      "execution_count": null,
      "outputs": [
        {
          "output_type": "stream",
          "name": "stdout",
          "text": [
            "Q5-1 빈도수:\n",
            "1.0    236\n",
            "5.0     98\n",
            "2.0     66\n",
            "3.0     62\n",
            "4.0      3\n",
            "Name: Q5-1, dtype: int64\n",
            "\n",
            "Q5-1 비율:\n",
            "1.0    0.506438\n",
            "5.0    0.210300\n",
            "2.0    0.141631\n",
            "3.0    0.133047\n",
            "4.0    0.006438\n",
            "Name: Q5-1, dtype: float64\n"
          ]
        }
      ]
    },
    {
      "cell_type": "code",
      "source": [
        "# 'Q5-2' 컬럼의 값들의 빈도수 확인\n",
        "age_counts = df['Q5-2'].value_counts()\n",
        "\n",
        "# 비율 계산\n",
        "age_percentage = age_counts / 46\n",
        "\n",
        "# 결과 출력\n",
        "print(\"Q5-2 빈도수:\")\n",
        "print(age_counts)\n",
        "print(\"\\nQ5-2 비율:\")\n",
        "print(age_percentage)"
      ],
      "metadata": {
        "colab": {
          "base_uri": "https://localhost:8080/"
        },
        "id": "73eHgiXStKjy",
        "outputId": "2e6f13c5-7208-49e6-b297-dd42f16e94b2"
      },
      "execution_count": null,
      "outputs": [
        {
          "output_type": "stream",
          "name": "stdout",
          "text": [
            "Q5-2 빈도수:\n",
            "2.0    30\n",
            "4.0     5\n",
            "5.0     4\n",
            "3.0     1\n",
            "Name: Q5-2, dtype: int64\n",
            "\n",
            "Q5-2 비율:\n",
            "2.0    0.652174\n",
            "4.0    0.108696\n",
            "5.0    0.086957\n",
            "3.0    0.021739\n",
            "Name: Q5-2, dtype: float64\n"
          ]
        }
      ]
    },
    {
      "cell_type": "code",
      "source": [
        "# 'Q6' 컬럼의 값들의 빈도수 확인\n",
        "age_counts = df['Q6'].value_counts()\n",
        "\n",
        "# 비율 계산\n",
        "age_percentage = age_counts / 512\n",
        "\n",
        "# 결과 출력\n",
        "print(\"Q6 빈도수:\")\n",
        "print(age_counts)\n",
        "print(\"\\nQ6 비율:\")\n",
        "print(age_percentage)"
      ],
      "metadata": {
        "colab": {
          "base_uri": "https://localhost:8080/"
        },
        "id": "T9gMsvbS2DNh",
        "outputId": "153467e2-8f4d-48db-93a1-2c78183f5cba"
      },
      "execution_count": null,
      "outputs": [
        {
          "output_type": "stream",
          "name": "stdout",
          "text": [
            "Q6 빈도수:\n",
            "1                   239\n",
            "4                    64\n",
            "3                    63\n",
            "2                    57\n",
            "5                    46\n",
            "6                    24\n",
            "7                     2\n",
            "7 (다양한 미술 작품 전시)      1\n",
            "7(다른 작가 작품도 전시)       1\n",
            "7(여가 및 체험)            1\n",
            "7 (필요 없음)             1\n",
            "Name: Q6, dtype: int64\n",
            "\n",
            "Q6 비율:\n",
            "1                   0.466797\n",
            "4                   0.125000\n",
            "3                   0.123047\n",
            "2                   0.111328\n",
            "5                   0.089844\n",
            "6                   0.046875\n",
            "7                   0.003906\n",
            "7 (다양한 미술 작품 전시)    0.001953\n",
            "7(다른 작가 작품도 전시)     0.001953\n",
            "7(여가 및 체험)          0.001953\n",
            "7 (필요 없음)           0.001953\n",
            "Name: Q6, dtype: float64\n"
          ]
        }
      ]
    },
    {
      "cell_type": "code",
      "source": [
        "239+64+63+57+46+24+7+13"
      ],
      "metadata": {
        "colab": {
          "base_uri": "https://localhost:8080/"
        },
        "id": "SlYRb_cb2DP3",
        "outputId": "4b567b8d-6ff9-4e9b-ac80-95922da6c338"
      },
      "execution_count": null,
      "outputs": [
        {
          "output_type": "execute_result",
          "data": {
            "text/plain": [
              "513"
            ]
          },
          "metadata": {},
          "execution_count": 44
        }
      ]
    },
    {
      "cell_type": "code",
      "source": [
        "# 'Q7' 컬럼의 값들의 빈도수 확인\n",
        "age_counts = df['Q7'].value_counts()\n",
        "\n",
        "# 비율 계산\n",
        "age_percentage = age_counts / 512\n",
        "\n",
        "# 결과 출력\n",
        "print(\"Q7 빈도수:\")\n",
        "print(age_counts)\n",
        "print(\"\\nQ7 비율:\")\n",
        "print(age_percentage)"
      ],
      "metadata": {
        "colab": {
          "base_uri": "https://localhost:8080/"
        },
        "id": "k-c5nx4e2DR7",
        "outputId": "95225aca-1a19-4393-a54a-66f0d5e3253e"
      },
      "execution_count": null,
      "outputs": [
        {
          "output_type": "stream",
          "name": "stdout",
          "text": [
            "Q7 빈도수:\n",
            "1                  213\n",
            "3                  150\n",
            "4                   48\n",
            "6                   41\n",
            "2                   33\n",
            "5                   15\n",
            "6(장애인/노인 편의 고려)      1\n",
            "Name: Q7, dtype: int64\n",
            "\n",
            "Q7 비율:\n",
            "1                  0.416016\n",
            "3                  0.292969\n",
            "4                  0.093750\n",
            "6                  0.080078\n",
            "2                  0.064453\n",
            "5                  0.029297\n",
            "6(장애인/노인 편의 고려)    0.001953\n",
            "Name: Q7, dtype: float64\n"
          ]
        }
      ]
    },
    {
      "cell_type": "code",
      "source": [
        "# 'Q8' 컬럼의 값들의 빈도수 확인\n",
        "age_counts = df['Q8'].value_counts()\n",
        "\n",
        "# 비율 계산\n",
        "age_percentage = age_counts / 512\n",
        "\n",
        "# 결과 출력\n",
        "print(\"Q8 빈도수:\")\n",
        "print(age_counts)\n",
        "print(\"\\nQ8 비율:\")\n",
        "print(age_percentage)"
      ],
      "metadata": {
        "colab": {
          "base_uri": "https://localhost:8080/"
        },
        "id": "-i4PlrET5qxo",
        "outputId": "3f596d71-1334-42b5-8c5b-c0297edee188"
      },
      "execution_count": null,
      "outputs": [
        {
          "output_type": "stream",
          "name": "stdout",
          "text": [
            "Q8 빈도수:\n",
            "1.0    202\n",
            "3.0    139\n",
            "2.0    114\n",
            "4.0     21\n",
            "5.0     15\n",
            "6.0     11\n",
            "Name: Q8, dtype: int64\n",
            "\n",
            "Q8 비율:\n",
            "1.0    0.394531\n",
            "3.0    0.271484\n",
            "2.0    0.222656\n",
            "4.0    0.041016\n",
            "5.0    0.029297\n",
            "6.0    0.021484\n",
            "Name: Q8, dtype: float64\n"
          ]
        }
      ]
    },
    {
      "cell_type": "code",
      "source": [
        "\n",
        "# 'Q9' 열의 모든 값 출력\n",
        "q9_values = df['Q9'].unique()\n",
        "\n",
        "# 결과 출력\n",
        "print(\"Q9 열의 모든 값:\")\n",
        "print(q9_values)"
      ],
      "metadata": {
        "colab": {
          "base_uri": "https://localhost:8080/"
        },
        "id": "zRcCjW3x-7I4",
        "outputId": "6adc0c5a-0076-4d75-ad15-b2434ea74fac"
      },
      "execution_count": null,
      "outputs": [
        {
          "output_type": "stream",
          "name": "stdout",
          "text": [
            "Q9 열의 모든 값:\n",
            "[nan '지금 규모가 적당, 더 커지면 이용객 감소 우려' '수고 많으십니다. 지원해주세요.'\n",
            " '연령에 상관없이 이용할 수 있으면 좋겠습니다.' '이용료 관련, 남원시민 무료 타지역은 4번' '작가에 대한 관심이 없습니다'\n",
            " '환경파괴 우려' '젊은 세대분들 위한 시설 마련'\n",
            " '앞으로도 남원시 지역경제활성화와 남원 지역 알림에 큰 역할이 되었으면 합니다.'\n",
            " '작품소장보다는 전시활성화를 통해 다양한 작품이순환 전시되어 방문객이 자주 방문하면 좋겠습니다.'\n",
            " '주차공간 및 휴게시설 확보에 신경써주셨으면 좋겠습니다.' '청소년 유익 시설'\n",
            " '기본 도시 컨셒 : 준스포츠도시(4계절용) 및 예술 도시, 글램핑장( 요천 모래밭),가족용래프팅시설(요천이용), 김병종건물증축시 최고의 건축가 작품건물설치, 승사교 아랫부분에 잠수교 설치(서울 반포대교 참고), 이동식 카페, 제과점 입주가능'\n",
            " '김병용 화백에 대한 홍보가 좀 더 이루어져야 할 것 같습니다. 김병종 화백 자체에 대한 정보가 부족합니다.'\n",
            " '(미술관을 활용한 공연예술 (예: 팔복예술공장, 청춘마이크 같은 프로그램))' '홍보, 프로그램 활성화'\n",
            " '체험공간, 쉬는공간, 아이들 데리고 가서 돗자리 들고 가서 앉아서 먹고 쉬고 관광할 수 있는 쉼터 공간 조성 필요!'\n",
            " '꼭 건립되어서 주민과 공유하면 좋을 것 같아요.' '굳이 필요x'\n",
            " '증축 후 다양한 전시 및 프로그램 운영 후 이용금 부담이 이뤄져야 할듯. 현재로는 이용료 부담스러움, 단조로움'\n",
            " '다양한 연령 이용 가능한 전시 필요' '남원이 문화 예술의 도시로 성장하기 위한 발판으로 반드시 필요하다고 생각합니다'\n",
            " '다양한 전시 작품이 있었으면 좋겠다 (지역 작가 외 타지 작가 전시회 등)'\n",
            " '증축보다는 현재 미술관을 잘 활용하면 좋을 것 같습니다. 필요하다면 시민의 의견을 잘 수렴하였으면 좋겠고 자연과의 조화를 생각해서 진행하면 합니다.'\n",
            " '지역예술인들 전시 및 작품활동 공간 제공' ' ' '남원시민은 무료' '김병종 그림밖에 없는게 단점이다'\n",
            " '교육, 체험 프로그램이 많아졌으면 좋겠습니다~!' '참여기회가 조금 더 많았으면 좋겠습니다.'\n",
            " '전시공간과 교육·참여 프로그램이 조화롭게 잘 진행되었으면 함.'\n",
            " '남원시에 위치함에 있어 남원시민들이 자주 이용하게 된다면, 이용료에 부담이 가지 않게끔 책정되면 좋겠습니다. 남원시민이라면 타지역 시민보다 더 자주갈텐데 할인이 있어야 되겠습니다.'\n",
            " '항상 남원시는 토지나 예산 때문에 소규모로 건설·건축하는 경우가 多. 미술관은 남원시에 하나밖에 없는 시설로 시간이 조금 소요되더라도 규모가 大시설로 조성되어 큰 자원이 되길 바람.'\n",
            " '남원 시민 및 관광객 누구나 찾을 수 있는 미술관이 되었으면 좋겠습니다.'\n",
            " '기존 미술관도 휴게 편의시설이 충분하지만 머물다 갈 공간으로는 인식되지 않음. 2관은 미술작품체험, 전시 등 여러 프로그램 운영하면서 쉴 수 있는 공간도 충분히 구성 필요'\n",
            " '전국 최고 시설이 되도록 다양한 의견수렴 및 체험 프로그램 개발'\n",
            " \"남원시립' 미술관으로 증축한다면 김병종 작가뿐만 아니라 다른 남원 지역작가들의 작품들도 조명하고, 더 나아가 남원시민들이 다양한 시각예술작품을 향유할 수 있도록 전시작가의 스펙트럼을 넓혔으면 좋겠음.\"\n",
            " '다양한 작가들의 전ㄴ시가 이루어졌으면 합니다.'\n",
            " '김병종미술관이 단지 전시기관이 아닌 문화체험과 예술체험의 중심시설이 될 수 있도록 조성해 주기 바라며 그러기 위해서 증축도 반드시 필요하다고 생각합니다.'\n",
            " '다양한 프로그램 개발로 방문객 관람의 즐거움, 참여 프로그램 개발 필요'\n",
            " '특정인이 아닌 일반인(미술을 모르는 대중)도 매우 쉽게 미술품을 이해할 수 있는 프로그램 운영'\n",
            " '미술관 주변에 연계한 관광·문화공간 부족. 미술관 자체의 방문목적을 높이기 위한 다양한' '퀄리티가 높았으면 좋겠습니다.'\n",
            " '시민참여 프로그램 필요.' '미디어 아트 추가' '남원에서도 여러 전시회가 자주 열렸으면 좋겠습니다.'\n",
            " '좋은 작품으로 전시 부탁드립니다.'\n",
            " '방문하면 생각보다 볼 것이 없었는데 다양한 전시와 프로그램을 확대해서 더 많은 방문객이 있으면 함.'\n",
            " 'Title. 김병종 外 다른 네이밍(naming)' '도슨트 프로그램이 더 활성화되어서 관광객 체류시간이 늘어나길 바랍니다'\n",
            " '주변 관광 시설 부재' '위치와 1관과의 연계프로그램' '체험할 수 있는 프로그램을 多 만들어주시면 좋겠어요 :)'\n",
            " '무료로 해 주세요!' '작품들을 더 많이 보고 싶습니다. 금방 보고 나와버려서 아쉬워요'\n",
            " '김병종 미술관은 특히 타지인들이 방문하고 반응이 좋습니다. 전시 작품도 그럭저럭 괜찮지만 건물이 예쁜 것도 큰 이유이네요. 2관도 건물 자체도 멋진 작품으로 지어지길 바랍니다. 1관은 전시실이 조금 좁은 느낌이 있습니다. 관람 동선도 잘 짜주시길 바라고 기념품 판매하는 공간도 넓었으면 합니다.'\n",
            " '무료니까 카페도 되고 입장료 받으면 과연 누거올까요?'\n",
            " '미술관 직원분들 민원응대와 미술작품이 설명 부족, 아이들과 함께할 수 있는 프로그램, 휴식공간 등이 많이 부족합니다.'\n",
            " '미술관 직원분들 민원응대 와 미술작품이 설명 부족, 아이들과 함께할수 있는 프로그램, 휴식공간 등이 많이 부족합니다. 옆 콩이라는 건물을 주말에 방문한 적이 있는데요...공간도 많이 남아있는데 굳이 더 증측을 해야할 이유가 있을까 싶습니다. 콩 건물 또한 주말에 아이들과 많이 찾는공간이 되어야 하는데 프로그램도 없고 설명하는분도 없고., 공식적인 오픈이 맞는걸까요>콩 건물을 활용하시는게 더 나을듯합니다.'\n",
            " '증축을 희망합니다' '젊은 감각으로 1관보다 보다 나은 멋진 건물을 지어주시기 바랍니다.']\n"
          ]
        }
      ]
    },
    {
      "cell_type": "code",
      "source": [
        "len(q9_values)"
      ],
      "metadata": {
        "colab": {
          "base_uri": "https://localhost:8080/"
        },
        "id": "TGOa1kJa_Iew",
        "outputId": "ea5e9d8f-8885-4dee-af3d-3a5ebc7a8788"
      },
      "execution_count": null,
      "outputs": [
        {
          "output_type": "execute_result",
          "data": {
            "text/plain": [
              "61"
            ]
          },
          "metadata": {},
          "execution_count": 57
        }
      ]
    },
    {
      "cell_type": "code",
      "source": [
        "from collections import Counter\n",
        "\n",
        "# 'Q9' 열의 모든 값 가져오기\n",
        "q9_values = df['Q9'].dropna().astype(str)\n",
        "\n",
        "# 모든 단어를 공백 기준으로 분할하고 빈도수 계산\n",
        "word_counts = Counter(\" \".join(q9_values).split())\n",
        "\n",
        "# 가장 많이 등장하는 5개의 단어 추출\n",
        "top_words = word_counts.most_common(5)\n",
        "\n",
        "# 결과 출력\n",
        "print(\"가장 많이 등장하는 5개의 단어:\")\n",
        "for word, count in top_words:\n",
        "    print(f\"{word}: {count}회\")"
      ],
      "metadata": {
        "colab": {
          "base_uri": "https://localhost:8080/"
        },
        "id": "GsS-6nD4_KMn",
        "outputId": "64359e7c-d215-4d67-ca32-1710f3f080e3"
      },
      "execution_count": null,
      "outputs": [
        {
          "output_type": "stream",
          "name": "stdout",
          "text": [
            "가장 많이 등장하는 5개의 단어:\n",
            "더: 10회\n",
            "다양한: 10회\n",
            "수: 9회\n",
            "좋겠습니다.: 8회\n",
            "프로그램: 8회\n"
          ]
        }
      ]
    },
    {
      "cell_type": "code",
      "source": [
        "# 'Q9' 열에서 '프로그램'이 들어간 행들 선택\n",
        "q9_program_rows = df[df['Q9'].str.contains('프로그램', na=False)]\n",
        "\n",
        "# 결과 출력\n",
        "print(\"Q9 열에서 '프로그램'이 들어간 경우:\")\n",
        "print(q9_program_rows)\n"
      ],
      "metadata": {
        "id": "X7bhpvXeBg2D",
        "outputId": "cebc7b41-8410-4d84-9944-77dff541e6bd",
        "colab": {
          "base_uri": "https://localhost:8080/"
        }
      },
      "execution_count": null,
      "outputs": [
        {
          "output_type": "stream",
          "name": "stdout",
          "text": [
            "Q9 열에서 '프로그램'이 들어간 경우:\n",
            "      연번  성별   연령  거주지 거주기간  Q1  Q2   Q3   Q4  Q5  Q5-1  Q5-2 Q6   Q7   Q8  \\\n",
            "132  133   2  2.0  향교동    6   2   2    4  NaN   1   1.0   NaN  6  NaN  2.0   \n",
            "133  134   2  5.0  향교동    6   3   4  NaN  2.0   1   5.0   NaN  5    3  3.0   \n",
            "198  199   2  5.0  주생면    6   3   4  NaN  4.0   1   1.0   NaN  2    3  3.0   \n",
            "302  303   2  3.0  산동면    5   2   2    3  NaN   1   3.0   NaN  5    3  1.0   \n",
            "318  319   2  3.0  도통동    6   3   2    3  NaN   1   5.0   NaN  5    4  5.0   \n",
            "333  334   1  4.0  도통동    4   2   2    3  NaN   1   5.0   NaN  5    6  2.0   \n",
            "343  344   1  5.0  도통동    6   2   1    2  NaN   1   1.0   NaN  4    1  2.0   \n",
            "352  353   1  3.0  도통동    6   2   2    5  NaN   1   5.0   NaN  4    3  2.0   \n",
            "366  367   1  5.0  도통동    6   2   2    2  NaN   1   5.0   NaN  3    4  2.0   \n",
            "386  387   2  3.0  도통동    3   2   2    1  NaN   1   5.0   NaN  2    4  2.0   \n",
            "403  404   1  3.0  도통동    6   3   2    3  NaN   1   1.0   NaN  1    3  3.0   \n",
            "407  408   2  3.0  도통동    2   2   2    3  NaN   1   1.0   NaN  5    1  3.0   \n",
            "411  412   1  3.0  도통동    2   2   4  NaN  1.0   1   2.0   NaN  3    3  1.0   \n",
            "412  413   2  4.0  도통동    6   2   1    3  NaN   1   5.0   NaN  4    3  1.0   \n",
            "495  496   2  3.0  도통동    6   4   5  NaN  4.0   2   NaN   2.0  1    3  3.0   \n",
            "497  498   2  3.0  도통동    6   4   5  NaN  4.0   2   NaN   2.0  1    3  3.0   \n",
            "\n",
            "                                                    Q9  \n",
            "132         (미술관을 활용한 공연예술 (예: 팔복예술공장, 청춘마이크 같은 프로그램))  \n",
            "133                                       홍보, 프로그램 활성화  \n",
            "198  증축 후 다양한 전시 및 프로그램 운영 후 이용금 부담이 이뤄져야 할듯. 현재로는 ...  \n",
            "302                         교육, 체험 프로그램이 많아졌으면 좋겠습니다~!  \n",
            "318                 전시공간과 교육·참여 프로그램이 조화롭게 잘 진행되었으면 함.  \n",
            "333  기존 미술관도 휴게 편의시설이 충분하지만 머물다 갈 공간으로는 인식되지 않음. 2관...  \n",
            "343                전국 최고 시설이 되도록 다양한 의견수렴 및 체험 프로그램 개발  \n",
            "352            다양한 프로그램 개발로 방문객 관람의 즐거움, 참여 프로그램 개발 필요  \n",
            "366  특정인이 아닌 일반인(미술을 모르는 대중)도 매우 쉽게 미술품을 이해할 수 있는 프...  \n",
            "386                                      시민참여 프로그램 필요.  \n",
            "403  방문하면 생각보다 볼 것이 없었는데 다양한 전시와 프로그램을 확대해서 더 많은 방문...  \n",
            "407             도슨트 프로그램이 더 활성화되어서 관광객 체류시간이 늘어나길 바랍니다  \n",
            "411                                    위치와 1관과의 연계프로그램  \n",
            "412                    체험할 수 있는 프로그램을 多 만들어주시면 좋겠어요 :)  \n",
            "495  미술관 직원분들 민원응대와 미술작품이 설명 부족, 아이들과 함께할 수 있는 프로그램...  \n",
            "497  미술관 직원분들 민원응대 와 미술작품이 설명 부족, 아이들과 함께할수 있는 프로그램...  \n"
          ]
        }
      ]
    }
  ]
}